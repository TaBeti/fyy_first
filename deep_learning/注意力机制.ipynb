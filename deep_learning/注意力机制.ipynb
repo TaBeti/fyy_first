{
 "cells": [
  {
   "cell_type": "code",
   "execution_count": 1,
   "metadata": {},
   "outputs": [],
   "source": [
    "import torch\n",
    "import torch.nn as nn\n",
    "import torch.nn.functional as F\n",
    "from d2l import torch as d2l"
   ]
  },
  {
   "cell_type": "code",
   "execution_count": 2,
   "metadata": {},
   "outputs": [],
   "source": [
    "def masked_softmax(X, valid_lens):\n",
    "    \"\"\"Perform softmax operation by masking elements on the last axis.\n",
    "\n",
    "    Defined in :numref:`sec_attention-scoring-functions`\"\"\"\n",
    "    # `X`: 3D tensor, `valid_lens`: 1D or 2D tensor\n",
    "    if valid_lens is None:\n",
    "        return nn.functional.softmax(X, dim=-1)\n",
    "    else:\n",
    "        shape = X.shape\n",
    "        if valid_lens.dim() == 1:\n",
    "            valid_lens = torch.repeat_interleave(valid_lens, shape[1])\n",
    "        else:\n",
    "            valid_lens = valid_lens.reshape(-1)\n",
    "        # On the last axis, replace masked elements with a very large negative\n",
    "        # value, whose exponentiation outputs 0\n",
    "        X = d2l.sequence_mask(X.reshape(-1, shape[-1]), valid_lens,\n",
    "                              value=-1e6)\n",
    "        return nn.functional.softmax(X.reshape(shape), dim=-1)"
   ]
  },
  {
   "cell_type": "code",
   "execution_count": 3,
   "metadata": {},
   "outputs": [],
   "source": [
    "#加性注意力\n",
    "class AdditiveAttention(nn.Module):\n",
    "    def __init__(self, key_size, query_size, num_hiddens, dropout, **kwargs):\n",
    "        super(AdditiveAttention, self).__init__(**kwargs)\n",
    "        self.W_k = nn.Linear(key_size, num_hiddens, bias=False)\n",
    "        self.W_q = nn.Linear(query_size, num_hiddens, bias=False)\n",
    "        self.w_v = nn.Linear(num_hiddens, 1, bias=False)\n",
    "        self.dropout = nn.Dropout(dropout)\n",
    "\n",
    "    def forward(self, queries, keys, values, valid_lens):\n",
    "        queries, keys = self.W_q(queries), self.W_k(keys)\n",
    "        # 在维度扩展后，\n",
    "        # queries的形状：(batch_size，查询的个数，1，num_hidden)\n",
    "        # key的形状：(batch_size，1，“键－值”对的个数，num_hiddens)\n",
    "        # 使用广播方式进行求和\n",
    "        print(\"q, k升维后的维度：\")\n",
    "        print(queries.unsqueeze(2).shape, keys.unsqueeze(1).shape)\n",
    "        features = queries.unsqueeze(2) + keys.unsqueeze(1)\n",
    "        features = torch.tanh(features)\n",
    "        print(\"特征维度是：\", features.shape)\n",
    "        # self.w_v仅有一个输出，因此从形状中移除最后那个维度。\n",
    "        # scores的形状：(batch_size，查询的个数，“键-值”对的个数)\n",
    "        print(\"v的维度是：\", self.w_v(features).shape)\n",
    "        scores = self.w_v(features).squeeze(-1)\n",
    "        print(\"注意力得分的维度是：\", scores.shape)\n",
    "        self.attention_weights = masked_softmax(scores, valid_lens)\n",
    "        # values的形状：(batch_size，“键－值”对的个数，值的维度)\n",
    "        return torch.bmm(self.dropout(self.attention_weights), values)\n"
   ]
  },
  {
   "cell_type": "code",
   "execution_count": 4,
   "metadata": {},
   "outputs": [
    {
     "name": "stdout",
     "output_type": "stream",
     "text": [
      "q, k升维后的维度：\n",
      "torch.Size([3, 4, 1, 4]) torch.Size([3, 1, 6, 4])\n",
      "特征维度是： torch.Size([3, 4, 6, 4])\n",
      "v的维度是： torch.Size([3, 4, 6, 1])\n",
      "注意力得分的维度是： torch.Size([3, 4, 6])\n",
      "输出的形状:  torch.Size([3, 4, 4])\n",
      "注意力权重:  tensor([[[0.1598, 0.1438, 0.2024, 0.1870, 0.1553, 0.1516],\n",
      "         [0.1630, 0.1399, 0.2013, 0.1888, 0.1571, 0.1500],\n",
      "         [0.1687, 0.1577, 0.1763, 0.1720, 0.1673, 0.1580],\n",
      "         [0.1690, 0.1518, 0.1838, 0.1763, 0.1667, 0.1524]],\n",
      "\n",
      "        [[0.2336, 0.1637, 0.1296, 0.1214, 0.1786, 0.1732],\n",
      "         [0.1831, 0.1673, 0.1618, 0.1580, 0.1666, 0.1633],\n",
      "         [0.1994, 0.1732, 0.1406, 0.1288, 0.1807, 0.1774],\n",
      "         [0.2390, 0.1611, 0.1336, 0.1262, 0.1746, 0.1655]],\n",
      "\n",
      "        [[0.1307, 0.1993, 0.2078, 0.1505, 0.1453, 0.1665],\n",
      "         [0.1255, 0.2036, 0.2153, 0.1458, 0.1394, 0.1704],\n",
      "         [0.1239, 0.2010, 0.2096, 0.1491, 0.1450, 0.1715],\n",
      "         [0.1219, 0.2027, 0.2128, 0.1471, 0.1430, 0.1725]]],\n",
      "       grad_fn=<SoftmaxBackward0>)\n"
     ]
    }
   ],
   "source": [
    "attention = AdditiveAttention(key_size=5, query_size=6, num_hiddens=4, dropout=0.1)\n",
    "\n",
    "# 假设我们有一个批次的查询（queries）、键（keys）和值（values）\n",
    "batch_size = 3\n",
    "num_queries = 4\n",
    "num_key_value_pairs = 6\n",
    "keys = torch.randn((batch_size, num_key_value_pairs, 5))  # (batch_size, num_key_value_pairs, key_size)\n",
    "values = torch.randn((batch_size, num_key_value_pairs, 4))  # (batch_size, num_key_value_pairs, value_size)\n",
    "queries = torch.randn((batch_size, num_queries, 6))  # (batch_size, num_queries, query_size)\n",
    "\n",
    "# 假设每个查询对所有键值对都有效\n",
    "valid_lens = torch.tensor([6] * batch_size)\n",
    "\n",
    "# 计算注意力输出\n",
    "output = attention(queries, keys, values, valid_lens)\n",
    "print(\"输出的形状: \", output.shape)\n",
    "print(\"注意力权重: \", attention.attention_weights)"
   ]
  }
 ],
 "metadata": {
  "kernelspec": {
   "display_name": "pytorch",
   "language": "python",
   "name": "python3"
  },
  "language_info": {
   "codemirror_mode": {
    "name": "ipython",
    "version": 3
   },
   "file_extension": ".py",
   "mimetype": "text/x-python",
   "name": "python",
   "nbconvert_exporter": "python",
   "pygments_lexer": "ipython3",
   "version": "3.8.20"
  }
 },
 "nbformat": 4,
 "nbformat_minor": 2
}
